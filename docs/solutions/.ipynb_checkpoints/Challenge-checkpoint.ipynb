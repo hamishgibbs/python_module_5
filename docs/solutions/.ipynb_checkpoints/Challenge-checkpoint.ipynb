{
 "cells": [
  {
   "cell_type": "code",
   "execution_count": 2,
   "metadata": {},
   "outputs": [],
   "source": [
    "import pandas as pd"
   ]
  },
  {
   "cell_type": "code",
   "execution_count": 9,
   "metadata": {},
   "outputs": [],
   "source": [
    "data_url = 'https://raw.githubusercontent.com/hamishgibbs/python_module_5/master/data/clean-hubei.csv'\n",
    "\n",
    "hubei = pd.read_csv(data_url)"
   ]
  },
  {
   "cell_type": "code",
   "execution_count": 10,
   "metadata": {},
   "outputs": [],
   "source": [
    "\n",
    "#original line\n",
    "hubei['city_name'] = hubei['city'].str.extract(r\"(\\w*)(?=\\s*City)\")"
   ]
  },
  {
   "cell_type": "code",
   "execution_count": 53,
   "metadata": {},
   "outputs": [],
   "source": [
    "def get_prev_word(col, word):\n",
    "\n",
    "    col = col.str.extract(r\"(\\w*)(?=\\s*{})\".format(word))\n",
    "    \n",
    "    return(col)\n",
    "    "
   ]
  },
  {
   "cell_type": "code",
   "execution_count": 54,
   "metadata": {},
   "outputs": [],
   "source": [
    "class TestClass():\n",
    "    \n",
    "    def __init__(self):\n",
    "        self.sample = pd.Series(['first word', 'second word'])\n",
    "        \n",
    "    def test_get_prev_word(self):\n",
    "        result = get_prev_word(self.sample, 'word')\n",
    "                \n",
    "        assert result[0].tolist() == ['first', 'second']"
   ]
  },
  {
   "cell_type": "code",
   "execution_count": 55,
   "metadata": {},
   "outputs": [],
   "source": [
    "TestClass().test_get_prev_word()"
   ]
  }
 ],
 "metadata": {
  "kernelspec": {
   "display_name": "Python 3",
   "language": "python",
   "name": "python3"
  },
  "language_info": {
   "codemirror_mode": {
    "name": "ipython",
    "version": 3
   },
   "file_extension": ".py",
   "mimetype": "text/x-python",
   "name": "python",
   "nbconvert_exporter": "python",
   "pygments_lexer": "ipython3",
   "version": "3.7.6"
  }
 },
 "nbformat": 4,
 "nbformat_minor": 4
}
