{
 "cells": [
  {
   "cell_type": "code",
   "execution_count": null,
   "metadata": {},
   "outputs": [],
   "source": [
    "import pandas as pd\n",
    "\n",
    "data_url = 'https://github.com/beoutbreakprepared/nCoV2019/raw/master/covid19/raw-data/hubei.csv'\n",
    "#read data from URL\n",
    "hubei = pd.read_csv(data_url)\n",
    "hubei.head()"
   ]
  },
  {
   "cell_type": "code",
   "execution_count": null,
   "metadata": {},
   "outputs": [],
   "source": [
    "dtypes = {'age':'string', \n",
    "          'sex':'string', \n",
    "          'date_onset_symptoms':'string', \n",
    "          'date_admission_hospital':'string', \n",
    "          'symptoms':'string',\n",
    "          'lives_in_wuhan':'string',\n",
    "          'reported_market_exposure':'string',\n",
    "          'additional_information':'string',\n",
    "          'chronic_disease':'string',\n",
    "          'sequence_available':'string',\n",
    "          'outcome':'string',\n",
    "          'date_death_or_discharge':'string'}"
   ]
  },
  {
   "cell_type": "code",
   "execution_count": null,
   "metadata": {},
   "outputs": [],
   "source": [
    "#import data, specifying data types\n",
    "hubei = pd.read_csv(data_url, dtype = dtypes)\n",
    "hubei.head()"
   ]
  }
 ],
 "metadata": {
  "kernelspec": {
   "display_name": "Python 3",
   "language": "python",
   "name": "python3"
  },
  "language_info": {
   "codemirror_mode": {
    "name": "ipython",
    "version": 3
   },
   "file_extension": ".py",
   "mimetype": "text/x-python",
   "name": "python",
   "nbconvert_exporter": "python",
   "pygments_lexer": "ipython3",
   "version": "3.7.6"
  }
 },
 "nbformat": 4,
 "nbformat_minor": 4
}
